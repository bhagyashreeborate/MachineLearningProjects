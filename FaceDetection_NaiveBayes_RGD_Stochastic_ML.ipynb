{
 "cells": [
  {
   "cell_type": "code",
   "execution_count": null,
   "metadata": {
    "collapsed": true
   },
   "outputs": [],
   "source": [
    "#HEADER\n",
    "from PIL import Image\n",
    "from pylab import *\n",
    "import numpy as np\n",
    "import pandas as pd\n",
    "import glob\n",
    "import numpy as np\n",
    "from collections import defaultdict\n",
    "import matplotlib.pyplot as plt\n",
    "from sklearn import metrics\n",
    "from sklearn.metrics import accuracy_score\n",
    "from sklearn.metrics import confusion_matrix\n",
    "from sklearn.model_selection import KFold\n",
    "from sklearn.model_selection import train_test_split\n",
    "from sklearn.metrics import precision_score\n",
    "from sklearn.metrics import recall_score\n",
    "from sklearn.metrics import f1_score\n",
    "from sklearn.preprocessing import StandardScaler\n",
    "from sklearn.metrics import roc_curve, auc\n",
    "import matplotlib.pyplot as plt\n",
    "import random"
   ]
  },
  {
   "cell_type": "code",
   "execution_count": 26,
   "metadata": {},
   "outputs": [
    {
     "name": "stdout",
     "output_type": "stream",
     "text": [
      "(6977, 361)\n",
      "[[162 166 167 ..., 178 174 162]\n",
      " [ 77  78  80 ..., 211 203 179]\n",
      " [145 126 108 ..., 185 190 192]]\n",
      "CPU times: user 4.11 s, sys: 757 ms, total: 4.86 s\n",
      "Wall time: 4.89 s\n"
     ]
    }
   ],
   "source": [
    "%%time\n",
    "\n",
    "#----TRAIN DATA ------\n",
    "face_path = glob.glob('./train/face/*.pgm')\n",
    "nonface_path = glob.glob('./train/non-face/*.pgm')\n",
    "\n",
    "face_count = len(face_path)\n",
    "nonface_count = len(nonface_path)\n",
    "total_fn_count = face_count + nonface_count\n",
    "\n",
    "Ytrain = np.empty((total_fn_count,), dtype='bool')\n",
    "Ytrain[:face_count] = True\n",
    "Ytrain[face_count:] = False\n",
    "\n",
    "filenames = face_path + nonface_path\n",
    "img = [Image.open(fn).convert('L') for fn in filenames]\n",
    "Xtrain = np.asarray([np.array(im).flatten() for im in img])\n",
    "print(Xtrain.shape)\n",
    "\n",
    "#----TEST DATA ------\n",
    "\n",
    "face_path = glob.glob('./test/face/*.pgm')                          ### MAKE SURE YOU HAVE SAME PATH\n",
    "nonface_path = glob.glob('./test/non-face/*.pgm')\n",
    "\n",
    "face_count = len(face_path)\n",
    "nonface_count = len(nonface_path)\n",
    "total_fn_count = face_count + nonface_count\n",
    "\n",
    "Ytest = np.empty((total_fn_count,), dtype='bool')\n",
    "Ytest[:face_count] = True\n",
    "Ytest[face_count:] = False\n",
    "\n",
    "filenames = face_path + nonface_path\n",
    "img = [Image.open(fn).convert('L') for fn in filenames]\n",
    "Xtest = np.asarray([np.array(im).flatten() for im in img])\n",
    "print(Xtest[:3])\n",
    "\n"
   ]
  },
  {
   "cell_type": "markdown",
   "metadata": {},
   "source": [
    "# REGULARIZED GRADIENT DESCENT EXPERIMENT - 2"
   ]
  },
  {
   "cell_type": "code",
   "execution_count": 27,
   "metadata": {
    "collapsed": true
   },
   "outputs": [],
   "source": [
    "#Function to calculate sigmoid\n",
    "def sigmoidFunction(z):\n",
    "    return 1.0 / (1.0 + np.exp(-z))"
   ]
  },
  {
   "cell_type": "code",
   "execution_count": 28,
   "metadata": {
    "collapsed": true
   },
   "outputs": [],
   "source": [
    "#y prediction threshold chcek if yprediction value is greater than 0.5 > then change value to 1 else value to 0\n",
    "def thresholdgen(ypredc):\n",
    "    threshold = 0.5\n",
    "    for i, value in enumerate(ypredc):\n",
    "        get_sigmoid_threshold = sigmoidFunction(value)\n",
    "        if get_sigmoid_threshold >= threshold:\n",
    "            ypredc[i] = 1\n",
    "        elif get_sigmoid_threshold < threshold:\n",
    "            ypredc[i] = 0\n",
    "    #[ypredc[np.abs(ypredc)>0.5] = 0\n",
    "    if np.all(ypredc==0):\n",
    "        print(\"all zeros\")\n",
    "    return ypredc"
   ]
  },
  {
   "cell_type": "code",
   "execution_count": 29,
   "metadata": {
    "collapsed": true
   },
   "outputs": [],
   "source": [
    "#Regulatized gradient descent main function\n",
    "def regularized_gd(Xtrain, Ytrain, alpha, nEpoch, lambdas):\n",
    "    w = np.random.uniform(size=(Xtrain.shape[1],))\n",
    "    m = Xtrain.shape[0]\n",
    "    for epoch in np.arange(0,nEpoch):\n",
    "        hypothesis = sigmoidFunction(Xtrain.dot(w))\n",
    "        error = hypothesis - Ytrain  #vector of errors for every samples    \n",
    "        loss = np.sum(error**2)\n",
    "        w_square = w.T.dot(w)\n",
    "        lambdas = float(lambdas/m)\n",
    "        wj = lambdas * w_square\n",
    "        gradient = ( Xtrain.T.dot(error) - wj ) / m\n",
    "        w = w - alpha*gradient\n",
    "        \n",
    "    return w"
   ]
  },
  {
   "cell_type": "code",
   "execution_count": 49,
   "metadata": {
    "collapsed": true
   },
   "outputs": [],
   "source": [
    "#this function will call regularized GD and calculate accuracy, f1s, recalls, FPR, TPR, thresholds, etc.\n",
    "def performRGD(Xtrain, Ytrain, alpha, nEpoch, lambdas):\n",
    "    w = regularized_gd(Xtrain, Ytrain, alpha, nEpoch,lambdas)\n",
    "    yprediction = Xtest.dot(w)\n",
    "    yprediction_fit_rgd = thresholdgen(yprediction)\n",
    "    accuracy = accuracy_score(Ytest, yprediction_fit_rgd)\n",
    "    precisions = precision_score(Ytest, yprediction_fit_rgd, average=None)\n",
    "    recalls = recall_score(Ytest, yprediction_fit_rgd, average=None)\n",
    "    f1s = f1_score(Ytest, yprediction_fit_rgd, average=None)\n",
    "    fpr, tpr, thresholds = roc_curve(Ytest, yprediction_fit_rgd)\n",
    "    roc_auc  = auc(fpr, tpr)\n",
    "    print(\"ROC FOR BGD-LR\")\n",
    "    print('ROC AUC: %0.2f' % roc_auc)\n",
    "    plt.plot(fpr, tpr, label='ROC curve (area = %0.2f)' % roc_auc)\n",
    "    plt.plot([0, 1], [0, 1], 'k--')\n",
    "    plt.xlim([0.0, 1.0])\n",
    "    plt.ylim([0.0, 1.05])\n",
    "    plt.xlabel('False Positive Rate')\n",
    "    plt.ylabel('True Positive Rate')\n",
    "    plt.title('ROC Curve')\n",
    "    plt.legend(loc=\"lower right\")\n",
    "    plt.show()\n",
    "    return([accuracy, precisions[1], recalls[1], f1s[1], yprediction_fit_rgd])"
   ]
  },
  {
   "cell_type": "code",
   "execution_count": 50,
   "metadata": {},
   "outputs": [
    {
     "name": "stderr",
     "output_type": "stream",
     "text": [
      "/home/bhagyashree/anaconda3/lib/python3.6/site-packages/ipykernel_launcher.py:2: RuntimeWarning: overflow encountered in exp\n",
      "  \n"
     ]
    },
    {
     "name": "stdout",
     "output_type": "stream",
     "text": [
      "ROC FOR BGD-LR\n",
      "ROC AUC: 0.56\n"
     ]
    },
    {
     "data": {
      "image/png": "[encoded data removed]",
      "text/plain": [
       "<matplotlib.figure.Figure at 0x7fbfbfe9bda0>"
      ]
     },
     "metadata": {},
     "output_type": "display_data"
    },
    {
     "name": "stdout",
     "output_type": "stream",
     "text": [
      "CPU times: user 2.55 s, sys: 56.1 ms, total: 2.61 s\n",
      "Wall time: 1.5 s\n"
     ]
    }
   ],
   "source": [
    "%%time\n",
    "class_rgd = performRGD(Xtrain,Ytrain,0.1,100,1)\n",
    "yprediction_fit_rgd = class_rgd[4]\n"
   ]
  },
  {
   "cell_type": "markdown",
   "metadata": {},
   "source": [
    "# Stochastic Gradient Descent Experiment - 3"
   ]
  },
  {
   "cell_type": "code",
   "execution_count": 33,
   "metadata": {
    "collapsed": true
   },
   "outputs": [],
   "source": [
    "def batching(X, y, batchSize):\n",
    "    for i in np.arange(0, X.shape[0], batchSize):\n",
    "        # yield a tuple of the current batched data and labels\n",
    "        yield (X[i:i + batchSize], y[i:i + batchSize])\n",
    "        "
   ]
  },
  {
   "cell_type": "code",
   "execution_count": null,
   "metadata": {
    "collapsed": true
   },
   "outputs": [],
   "source": [
    "import random\n",
    "\n",
    "# this function takes more amount of time to run as compared to other implementation while when comparing\n",
    "# both the results both gives same output. I preferred other function which is below this cell as its faster than this.\n",
    "\n",
    "def sgd_m(Xtrain, Ytrain, alpha, nEpoch, lambdas):\n",
    "    global lossHistory\n",
    "    #np.random.seed(9001)\n",
    "    w = np.random.uniform(size=(Xtrain.shape[1],))\n",
    "    lossHistory=[]\n",
    "    m = Xtrain.shape[0]\n",
    "    for epoch in np.arange(0,nEpoch):\n",
    "        for i in range(1,m):\n",
    "            hypothesis = sigmoidFunction(Xtrain.dot(w))\n",
    "            error = hypothesis - Ytrain  #vector of errors for every samples    \n",
    "            loss = np.sum(error**2)\n",
    "            w_square = w.T.dot(w)\n",
    "            lambdas = float(lambdas/m)\n",
    "            wj = lambdas * w_square\n",
    "            gradient = (Xtrain.T.dot(error)- wj)/m\n",
    "            w = w - alpha*gradient\n",
    "    return w"
   ]
  },
  {
   "cell_type": "code",
   "execution_count": 34,
   "metadata": {
    "collapsed": true
   },
   "outputs": [],
   "source": [
    "import random\n",
    "\n",
    "def sgd(Xtrain, Ytrain, alpha, nEpoch, lambdas):\n",
    "    global lossHistory\n",
    "    #np.random.seed(9001)\n",
    "    w = np.random.uniform(size=(Xtrain.shape[1],))\n",
    "    m = Xtrain.shape[0]\n",
    "    for epoch in np.arange(0,nEpoch):\n",
    "        for (batchX, batchY) in batching(Xtrain, Ytrain, 512):\n",
    "            hypothesis = sigmoidFunction(batchX.dot(w))\n",
    "            error = hypothesis - batchY  #vector of errors for every samples    \n",
    "            loss = np.sum(error**2)\n",
    "            w_square = w.T.dot(w)\n",
    "            lambdas = float(lambdas/m)\n",
    "            wj = lambdas * w_square\n",
    "            gradient = (batchX.T.dot(error) - wj)/m\n",
    "            w = w - alpha*gradient\n",
    "    return w"
   ]
  },
  {
   "cell_type": "code",
   "execution_count": 51,
   "metadata": {
    "collapsed": true
   },
   "outputs": [],
   "source": [
    "\n",
    "def performSGD(Xtrain, Ytrain, alpha, nEpoch, lambdas):\n",
    "    global yprediction_fit\n",
    "    w = sgd(Xtrain, Ytrain, alpha, nEpoch,lambdas)\n",
    "    #w = sgd_m(Xtrain, Ytrain, alpha, nEpoch,lambdas)        # this is an implementaion of sgd with 1 to m for loop\n",
    "    yprediction = Xtest.dot(w)\n",
    "    yprediction_fit_sgd = thresholdgen(yprediction) \n",
    "    accuracy = accuracy_score(Ytest, yprediction_fit_sgd)\n",
    "    precisions = precision_score(Ytest, yprediction_fit_sgd, average=None)\n",
    "    recalls = recall_score(Ytest, yprediction_fit_sgd, average=None)\n",
    "    f1s = f1_score(Ytest, yprediction_fit_sgd, average=None)\n",
    "    fpr, tpr, thresholds = roc_curve(Ytest, yprediction_fit_sgd)\n",
    "    roc_auc  = auc(fpr, tpr)\n",
    "    print(\"ROC CURVE FOR STOCHASTIC GD\")\n",
    "    print('ROC AUC: %0.2f' % roc_auc)\n",
    "    #plt.figure()\n",
    "    plt.plot(fpr, tpr, label='ROC curve (area = %0.2f)' % roc_auc)\n",
    "    plt.plot([0, 1], [0, 1], 'k--')\n",
    "    plt.xlim([0.0, 1.0])\n",
    "    plt.ylim([0.0, 1.05])\n",
    "    plt.xlabel('False Positive Rate')\n",
    "    plt.ylabel('True Positive Rate')\n",
    "    plt.title('ROC Curve')\n",
    "    plt.legend(loc=\"lower right\")\n",
    "    plt.show()\n",
    "    return([accuracy, precisions[1], recalls[1], f1s[1], yprediction_fit_sgd])"
   ]
  },
  {
   "cell_type": "code",
   "execution_count": 52,
   "metadata": {},
   "outputs": [
    {
     "name": "stderr",
     "output_type": "stream",
     "text": [
      "/home/bhagyashree/anaconda3/lib/python3.6/site-packages/ipykernel_launcher.py:2: RuntimeWarning: overflow encountered in exp\n",
      "  \n"
     ]
    },
    {
     "name": "stdout",
     "output_type": "stream",
     "text": [
      "ROC CURVE FOR STOCHASTIC GD\n",
      "ROC AUC: 0.50\n"
     ]
    },
    {
     "data": {
      "image/png": "[encoded data removed]",
      "text/plain": [
       "<matplotlib.figure.Figure at 0x7fbfbfe4af28>"
      ]
     },
     "metadata": {},
     "output_type": "display_data"
    },
    {
     "name": "stdout",
     "output_type": "stream",
     "text": [
      "CPU times: user 21.9 s, sys: 219 ms, total: 22.1 s\n",
      "Wall time: 12.1 s\n"
     ]
    }
   ],
   "source": [
    "%%time\n",
    "class_sgd = performSGD(Xtrain,Ytrain,0.1,1000,1)\n",
    "yprediction_fit_sgd = class_sgd[4]\n",
    "\n"
   ]
  },
  {
   "cell_type": "code",
   "execution_count": null,
   "metadata": {
    "collapsed": true
   },
   "outputs": [],
   "source": []
  },
  {
   "cell_type": "markdown",
   "metadata": {},
   "source": [
    "# NAIVE BAYES EXPERIMENT - 1"
   ]
  },
  {
   "cell_type": "code",
   "execution_count": 45,
   "metadata": {
    "scrolled": true
   },
   "outputs": [
    {
     "name": "stdout",
     "output_type": "stream",
     "text": [
      "CPU times: user 142 ms, sys: 100 ms, total: 242 ms\n",
      "Wall time: 245 ms\n"
     ]
    }
   ],
   "source": [
    "%%time\n",
    "def fit(Xtrain, Ytrain):\n",
    "    sample_count, features_count = Xtrain.shape\n",
    "    c = np.unique(Ytrain)\n",
    "    c_count = c.shape[0]\n",
    " \n",
    "    w = np.zeros((c_count, features_count))\n",
    "    sigmoid = np.zeros((c_count, features_count))\n",
    "    prior_probability_class = np.zeros(c_count)\n",
    "    eps = 1e-9\n",
    "    for i, jy in enumerate(c):\n",
    "        iX = Xtrain[Ytrain == jy, :]\n",
    "        w[i, :] = np.mean(iX, axis=0)\n",
    "        sigmoid[i, :] = np.var(iX, axis=0) + eps\n",
    "        prior_probability_class[i] = np.float(iX.shape[0]) / sample_count\n",
    "    return w, sigmoid, prior_probability_class\n",
    " \n",
    "def predict(model, X_test, y_test):\n",
    "    classes = np.unique(y_test)\n",
    "    n_classes = classes.shape[0]\n",
    "    joint_log_likelihood = []\n",
    "    for i in range(n_classes):\n",
    "        jointi = np.log(model['prior_probability_class'][i])\n",
    "        n_ij = - 0.5 * np.sum(np.log(2. * np.pi * model['stdev'][i, :]))\n",
    "        n_ij -= 0.5 * np.sum(((X_test - model['mean'][i, :]) ** 2) /\n",
    "                             (model['stdev'][i, :]), 1)\n",
    "        joint_log_likelihood.append(jointi + n_ij)\n",
    "    joint_log_likelihood = np.array(joint_log_likelihood).T\n",
    "    return classes[np.argmax(joint_log_likelihood, axis=1)]\n",
    " \n",
    "mean, stdev, prior_probability_class = fit(Xtrain, Ytrain)\n",
    "data = defaultdict(np.array)\n",
    "data['mean'] = mean\n",
    "data['stdev'] = stdev\n",
    "data['prior_probability_class'] = prior_probability_class\n",
    " \n",
    "yprediction_fit_nb = predict(data, Xtest, Ytest)\n",
    " \n",
    "accuracy_nb= accuracy_score(Ytest, yprediction_fit_nb)\n",
    "precisions_nb = precision_score(Ytest, yprediction_fit_nb, average=None)\n",
    "recalls_nb = recall_score(Ytest, yprediction_fit_nb, average=None)\n",
    "f1s_nb = f1_score(Ytest, yprediction_fit_nb, average=None)\n",
    " "
   ]
  },
  {
   "cell_type": "code",
   "execution_count": 47,
   "metadata": {
    "scrolled": false
   },
   "outputs": [
    {
     "name": "stdout",
     "output_type": "stream",
     "text": [
      "ROC CURVE FOR NAIVE BAYES\n",
      "ROC AUC: 0.60\n"
     ]
    },
    {
     "data": {
      "image/png": "[encoded data removed]",
      "text/plain": [
       "<matplotlib.figure.Figure at 0x7fbfc05fcda0>"
      ]
     },
     "metadata": {},
     "output_type": "display_data"
    }
   ],
   "source": [
    "print(\"ROC CURVE FOR NAIVE BAYES\")\n",
    "fpr, tpr, thresholds = roc_curve(Ytest, yprediction_fit_nb)\n",
    "roc_auc  = auc(fpr, tpr)\n",
    "print('ROC AUC: %0.2f' % roc_auc)\n",
    "    #plt.figure()\n",
    "plt.plot(fpr, tpr, label='ROC curve (area = %0.2f)' % roc_auc)\n",
    "plt.plot([0, 1], [0, 1], 'k--')\n",
    "plt.xlim([0.0, 1.0])\n",
    "plt.ylim([0.0, 1.05])\n",
    "plt.xlabel('False Positive Rate')\n",
    "plt.ylabel('True Positive Rate')\n",
    "plt.title('ROC Curve')\n",
    "plt.legend(loc=\"lower right\")\n",
    "plt.show()"
   ]
  },
  {
   "cell_type": "markdown",
   "metadata": {},
   "source": [
    "# A single ROC plot containing the 3 ROC curves for the NB, BGD-LR and SGD-LR."
   ]
  },
  {
   "cell_type": "code",
   "execution_count": 16,
   "metadata": {},
   "outputs": [
    {
     "name": "stdout",
     "output_type": "stream",
     "text": [
      "ROC AUC for Naive Bayes: 0.60\n",
      "ROC AUC for BGD-LR: 0.56\n",
      "ROC AUC for SGD-LR: 0.50\n"
     ]
    },
    {
     "data": {
      "image/png": "[encoded data removed]",
      "text/plain": [
       "<matplotlib.figure.Figure at 0x7fbfc0a2fd68>"
      ]
     },
     "metadata": {},
     "output_type": "display_data"
    }
   ],
   "source": [
    "fpr, tpr, thresholds = roc_curve(Ytest, yprediction_fit_nb)\n",
    "roc_auc  = auc(fpr, tpr)\n",
    "print('ROC AUC for Naive Bayes: %0.2f' % roc_auc)\n",
    "    #plt.figure()\n",
    "plt.plot(fpr, tpr, label='ROC curve (area = %0.2f)' % roc_auc)\n",
    "\n",
    "fpr, tpr, thresholds = roc_curve(Ytest, yprediction_fit_rgd)\n",
    "roc_auc  = auc(fpr, tpr)\n",
    "print('ROC AUC for BGD-LR: %0.2f' % roc_auc)\n",
    "    #plt.figure()\n",
    "plt.plot(fpr, tpr, label='ROC curve (area = %0.2f)' % roc_auc)\n",
    "\n",
    "fpr, tpr, thresholds = roc_curve(Ytest, yprediction_fit_sgd)\n",
    "roc_auc  = auc(fpr, tpr)\n",
    "print('ROC AUC for SGD-LR: %0.2f' % roc_auc)\n",
    "    #plt.figure()\n",
    "plt.plot(fpr, tpr, label='ROC curve (area = %0.2f)' % roc_auc)\n",
    "\n",
    "plt.plot([0, 1], [0, 1], 'k--')\n",
    "plt.xlim([0.0, 1.0])\n",
    "plt.ylim([0.0, 1.05])\n",
    "plt.xlabel('False Positive Rate')\n",
    "plt.ylabel('True Positive Rate')\n",
    "plt.title('ROC Curve')\n",
    "plt.legend(loc=\"lower right\")\n",
    "plt.show()"
   ]
  },
  {
   "cell_type": "markdown",
   "metadata": {},
   "source": [
    "# A table listing the performance metrics: Accuracy, Precision, Recall, F 1 -measure of the three methods based on the three experiments you did: NB, BGD-LR, SGD-LR"
   ]
  },
  {
   "cell_type": "code",
   "execution_count": 17,
   "metadata": {},
   "outputs": [
    {
     "data": {
      "text/html": [
       "<div>\n",
       "<style>\n",
       "    .dataframe thead tr:only-child th {\n",
       "        text-align: right;\n",
       "    }\n",
       "\n",
       "    .dataframe thead th {\n",
       "        text-align: left;\n",
       "    }\n",
       "\n",
       "    .dataframe tbody tr th {\n",
       "        vertical-align: top;\n",
       "    }\n",
       "</style>\n",
       "<table border=\"1\" class=\"dataframe\">\n",
       "  <thead>\n",
       "    <tr style=\"text-align: right;\">\n",
       "      <th></th>\n",
       "      <th></th>\n",
       "      <th>nEpoch, Alpha, Lambda</th>\n",
       "      <th>Accuracy</th>\n",
       "      <th>Precision</th>\n",
       "      <th>Recall</th>\n",
       "      <th>F-1</th>\n",
       "    </tr>\n",
       "  </thead>\n",
       "  <tbody>\n",
       "    <tr>\n",
       "      <th>0</th>\n",
       "      <td>NAIVE-BAYES</td>\n",
       "      <td>-</td>\n",
       "      <td>0.601705</td>\n",
       "      <td>0.029068</td>\n",
       "      <td>0.595339</td>\n",
       "      <td>0.055430</td>\n",
       "    </tr>\n",
       "    <tr>\n",
       "      <th>1</th>\n",
       "      <td>BGD-LR</td>\n",
       "      <td>100, 0.1, 1</td>\n",
       "      <td>0.893159</td>\n",
       "      <td>0.045119</td>\n",
       "      <td>0.220339</td>\n",
       "      <td>0.074901</td>\n",
       "    </tr>\n",
       "    <tr>\n",
       "      <th>2</th>\n",
       "      <td>SGD-LR</td>\n",
       "      <td>1000, 0.1, 1</td>\n",
       "      <td>0.972260</td>\n",
       "      <td>0.019704</td>\n",
       "      <td>0.008475</td>\n",
       "      <td>0.011852</td>\n",
       "    </tr>\n",
       "  </tbody>\n",
       "</table>\n",
       "</div>"
      ],
      "text/plain": [
       "               nEpoch, Alpha, Lambda  Accuracy  Precision    Recall       F-1\n",
       "0  NAIVE-BAYES                     -  0.601705   0.029068  0.595339  0.055430\n",
       "1       BGD-LR           100, 0.1, 1  0.893159   0.045119  0.220339  0.074901\n",
       "2       SGD-LR          1000, 0.1, 1  0.972260   0.019704  0.008475  0.011852"
      ]
     },
     "execution_count": 17,
     "metadata": {},
     "output_type": "execute_result"
    }
   ],
   "source": [
    "df =pd.DataFrame.from_records([{'':'NAIVE-BAYES','nEpoch, Alpha, Lambda': '-', 'Accuracy':accuracy_nb,'Precision':precisions_nb[1], 'Recall': recalls_nb[1], 'F-1':f1s_nb[1]},\n",
    "                              {'':'BGD-LR','nEpoch, Alpha, Lambda': '100, 0.1, 1', 'Accuracy':class_rgd[0],'Precision':class_rgd[1], 'Recall': class_rgd[2], 'F-1':class_rgd[3]},\n",
    "                               {'':'SGD-LR','nEpoch, Alpha, Lambda': '1000, 0.1, 1', 'Accuracy':class_sgd[0],'Precision':class_sgd[1], 'Recall': class_sgd[2], 'F-1':class_sgd[3]}\n",
    "                              ], columns=['','nEpoch, Alpha, Lambda','Accuracy','Precision', 'Recall', 'F-1'])\n",
    "df"
   ]
  },
  {
   "cell_type": "code",
   "execution_count": null,
   "metadata": {
    "collapsed": true
   },
   "outputs": [],
   "source": []
  },
  {
   "cell_type": "code",
   "execution_count": null,
   "metadata": {
    "collapsed": true
   },
   "outputs": [],
   "source": []
  }
 ],
 "metadata": {
  "kernelspec": {
   "display_name": "Python 3",
   "language": "python",
   "name": "python3"
  },
  "language_info": {
   "codemirror_mode": {
    "name": "ipython",
    "version": 3
   },
   "file_extension": ".py",
   "mimetype": "text/x-python",
   "name": "python",
   "nbconvert_exporter": "python",
   "pygments_lexer": "ipython3",
   "version": "3.6.3"
  }
 },
 "nbformat": 4,
 "nbformat_minor": 2
}
